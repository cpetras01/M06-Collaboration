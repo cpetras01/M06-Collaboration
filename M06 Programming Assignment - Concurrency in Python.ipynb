{
 "cells": [
  {
   "cell_type": "markdown",
   "id": "8303d6ff",
   "metadata": {},
   "source": [
    "Coleman Petras\n",
    "SDEV 220\n",
    "M06 Programming Assignment - Concurrency in Python\n",
    "Complete the following sections: 13.1, 13.2, 13.3, 15.1"
   ]
  },
  {
   "cell_type": "code",
   "execution_count": 1,
   "id": "d582f1da",
   "metadata": {},
   "outputs": [
    {
     "name": "stdout",
     "output_type": "stream",
     "text": [
      "2024-07-12\n"
     ]
    }
   ],
   "source": [
    "# Write the current date as a string to the text file today.txt\n",
    "\n",
    "def write_file():\n",
    "    from datetime import date\n",
    "    today = str(date.today())\n",
    "    f = open(\"today.txt\", \"w\")\n",
    "    f.write(today)\n",
    "    f.close()\n",
    "    print(today)\n",
    "\n",
    "write_file()\n"
   ]
  },
  {
   "cell_type": "code",
   "execution_count": 2,
   "id": "8d0e2665",
   "metadata": {},
   "outputs": [
    {
     "name": "stdout",
     "output_type": "stream",
     "text": [
      "2024-07-12\n"
     ]
    }
   ],
   "source": [
    "# 13.2 Read the text file today.txt into the string today_string\n",
    "f = open(\"today.txt\", \"r\")\n",
    "today_string = f.read()\n",
    "f.close()    \n",
    "print(today_string)"
   ]
  },
  {
   "cell_type": "code",
   "execution_count": 3,
   "id": "525de63c",
   "metadata": {},
   "outputs": [
    {
     "name": "stdout",
     "output_type": "stream",
     "text": [
      "2024-07-12\n"
     ]
    }
   ],
   "source": [
    "# 13.3 Parse the date from today_string\n",
    "\n",
    "from datetime import datetime\n",
    "parse_date = datetime.strptime(today_string, '%Y-%m-%d').date()\n",
    "print(parse_date)"
   ]
  },
  {
   "cell_type": "code",
   "execution_count": 4,
   "id": "37df489a",
   "metadata": {},
   "outputs": [
    {
     "name": "stdout",
     "output_type": "stream",
     "text": [
      "Starting processes...\n",
      "Employee has been assigned ID number 70774 and waited 0.40 seconds.\n",
      "Employee has been assigned ID number 41677 and waited 0.47 seconds.\n",
      "Employee has been assigned ID number 18254 and waited 0.18 seconds.\n",
      "All processes have finished. The current time is 05:47\n"
     ]
    }
   ],
   "source": [
    "# 15.1 Use multiprocessing to create three separate processes. \n",
    "# Make each one wait a random number of seconds between zero and\n",
    "# one, print the current time, and then exit\n",
    "\n",
    "import multiprocessing\n",
    "import time\n",
    "import random\n",
    "from datetime import datetime\n",
    "\n",
    "def worker(employee_id):\n",
    "    # Generate a random wait time between 0 and 1 second\n",
    "    wait_time = random.random()\n",
    "    time.sleep(wait_time)\n",
    "    \n",
    "    # Get the current time\n",
    "    current_time = datetime.now().strftime(\"%H:%M:%S\")\n",
    "    \n",
    "    # Print the current time and the employee ID\n",
    "    print(f\"Employee {employee_id} current time: {current_time}\")\n",
    "    \n",
    "    # Exit the process\n",
    "    print(f\"Employee {employee_id} exiting.\")\n",
    "\n",
    "if __name__ == \"__main__\":\n",
    "    # Print initial message\n",
    "    print(\"Starting processes...\")\n",
    "    \n",
    "    # Create three separate processes\n",
    "    processes = []\n",
    "    for _ in range(3):\n",
    "        employee_id = random.randint(10000, 99999)  # Generate random 5-digit ID\n",
    "        wait_time = random.random()  # Generate random wait time\n",
    "        \n",
    "        process = multiprocessing.Process(target=worker, args=(employee_id,))\n",
    "        processes.append(process)\n",
    "        process.start()\n",
    "        print(f\"Employee has been assigned ID number {employee_id} and waited {wait_time:.2f} seconds.\")\n",
    "    \n",
    "    # Wait for all processes to finish\n",
    "    for process in processes:\n",
    "        process.join()\n",
    "    \n",
    "    # Print final message\n",
    "    current_time = datetime.now().strftime(\"%H:%M\")\n",
    "    print(f\"All processes have finished. The current time is {current_time}\")\n"
   ]
  },
  {
   "cell_type": "code",
   "execution_count": null,
   "id": "6a160e3a",
   "metadata": {},
   "outputs": [],
   "source": []
  }
 ],
 "metadata": {
  "kernelspec": {
   "display_name": "Python 3 (ipykernel)",
   "language": "python",
   "name": "python3"
  },
  "language_info": {
   "codemirror_mode": {
    "name": "ipython",
    "version": 3
   },
   "file_extension": ".py",
   "mimetype": "text/x-python",
   "name": "python",
   "nbconvert_exporter": "python",
   "pygments_lexer": "ipython3",
   "version": "3.11.7"
  }
 },
 "nbformat": 4,
 "nbformat_minor": 5
}
